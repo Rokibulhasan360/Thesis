{
 "cells": [
  {
   "cell_type": "code",
   "execution_count": 1,
   "metadata": {},
   "outputs": [],
   "source": [
    "import pandas as pd\n",
    "import numpy as np\n",
    "import re\n",
    "import seaborn as sns\n",
    "import matplotlib.pyplot as plt\n",
    "from matplotlib import style\n",
    "style.use('ggplot')\n",
    "from textblob import TextBlob\n",
    "from nltk.tokenize import word_tokenize\n",
    "from nltk.stem import PorterStemmer\n",
    "from nltk.corpus import stopwords\n",
    "stop_words = set(stopwords.words('english'))\n",
    "from wordcloud import WordCloud\n",
    "from sklearn.feature_extraction.text import CountVectorizer\n",
    "from sklearn.model_selection import train_test_split\n",
    "from sklearn.linear_model import LogisticRegression\n",
    "from sklearn.metrics import accuracy_score, classification_report, confusion_matrix, ConfusionMatrixDisplay"
   ]
  },
  {
   "cell_type": "code",
   "execution_count": 2,
   "metadata": {},
   "outputs": [],
   "source": [
    "df = pd.read_csv('fifa_world_cup_2022_tweets.csv')"
   ]
  },
  {
   "cell_type": "code",
   "execution_count": 3,
   "metadata": {},
   "outputs": [
    {
     "data": {
      "text/html": [
       "<div>\n",
       "<style scoped>\n",
       "    .dataframe tbody tr th:only-of-type {\n",
       "        vertical-align: middle;\n",
       "    }\n",
       "\n",
       "    .dataframe tbody tr th {\n",
       "        vertical-align: top;\n",
       "    }\n",
       "\n",
       "    .dataframe thead th {\n",
       "        text-align: right;\n",
       "    }\n",
       "</style>\n",
       "<table border=\"1\" class=\"dataframe\">\n",
       "  <thead>\n",
       "    <tr style=\"text-align: right;\">\n",
       "      <th></th>\n",
       "      <th>Tweet</th>\n",
       "    </tr>\n",
       "  </thead>\n",
       "  <tbody>\n",
       "    <tr>\n",
       "      <th>0</th>\n",
       "      <td>What are we drinking today @TucanTribe \\n@MadB...</td>\n",
       "    </tr>\n",
       "    <tr>\n",
       "      <th>1</th>\n",
       "      <td>Amazing @CanadaSoccerEN  #WorldCup2022 launch ...</td>\n",
       "    </tr>\n",
       "    <tr>\n",
       "      <th>2</th>\n",
       "      <td>Worth reading while watching #WorldCup2022 htt...</td>\n",
       "    </tr>\n",
       "    <tr>\n",
       "      <th>3</th>\n",
       "      <td>Golden Maknae shinning bright\\n\\nhttps://t.co/...</td>\n",
       "    </tr>\n",
       "    <tr>\n",
       "      <th>4</th>\n",
       "      <td>If the BBC cares so much about human rights, h...</td>\n",
       "    </tr>\n",
       "  </tbody>\n",
       "</table>\n",
       "</div>"
      ],
      "text/plain": [
       "                                               Tweet\n",
       "0  What are we drinking today @TucanTribe \\n@MadB...\n",
       "1  Amazing @CanadaSoccerEN  #WorldCup2022 launch ...\n",
       "2  Worth reading while watching #WorldCup2022 htt...\n",
       "3  Golden Maknae shinning bright\\n\\nhttps://t.co/...\n",
       "4  If the BBC cares so much about human rights, h..."
      ]
     },
     "execution_count": 3,
     "metadata": {},
     "output_type": "execute_result"
    }
   ],
   "source": [
    "text_df = df.drop(['Unnamed: 0','Date Created','Number of Likes','Source of Tweet','Sentiment'], axis=1)\n",
    "text_df.head()"
   ]
  },
  {
   "cell_type": "code",
   "execution_count": 4,
   "metadata": {},
   "outputs": [
    {
     "name": "stdout",
     "output_type": "stream",
     "text": [
      "What are we drinking today @TucanTribe \n",
      "@MadBears_ \n",
      "@lkinc_algo \n",
      "@al_goanna \n",
      "\n",
      "#WorldCup2022 https://t.co/Oga3TzvG5h \n",
      "\n",
      "Amazing @CanadaSoccerEN  #WorldCup2022 launch video. Shows how much the face of Canada and our men’s national team have changed since our last World Cup entry in 1986.  Can’t wait to see these boys in action!\n",
      "\n",
      "This is Canada: FIFA World Cup Opening Video https://t.co/7g73vvwtg8 \n",
      "\n",
      "Worth reading while watching #WorldCup2022 https://t.co/1SQrNa2dYU \n",
      "\n",
      "Golden Maknae shinning bright\n",
      "\n",
      "https://t.co/4AyZbzGTX4\n",
      "#JeonJungkook #Jungkook #전정국 #정국 #JK #GoldenMaknae #bunny #Kookie #Jungshook #BTS #방탄소년단 #WorldCup2022 #FIFAKOOK \n",
      "@BTS_twt \n",
      "\n",
      "If the BBC cares so much about human rights, homosexual rights, and women rights then why not say these before the opening ceremony?? Why are they saying these during the opening ceremony?? Why did the BBC censor the #WorldCup2022 opening ceremony?? https://t.co/f72P03ZN2k \n",
      "\n"
     ]
    }
   ],
   "source": [
    "print(text_df['Tweet'].iloc[0],\"\\n\")\n",
    "print(text_df['Tweet'].iloc[1],\"\\n\")\n",
    "print(text_df['Tweet'].iloc[2],\"\\n\")\n",
    "print(text_df['Tweet'].iloc[3],\"\\n\")\n",
    "print(text_df['Tweet'].iloc[4],\"\\n\")"
   ]
  },
  {
   "cell_type": "code",
   "execution_count": 5,
   "metadata": {},
   "outputs": [],
   "source": [
    "def data_processing(text):\n",
    "    text = text.lower()\n",
    "    text = re.sub(r\"https\\S+|www\\S+https\\S+\", '',text, flags=re.MULTILINE)\n",
    "    text = re.sub(r'\\@w+|\\#','',text)\n",
    "    text = re.sub(r'[^\\w\\s]|[\\U0001F600-\\U0001F6FF]|[\\U0001F300-\\U0001F5FF]|[\\U0001F700-\\U0001F77F]|[\\U0001F780-\\U0001F7FF]|[\\U0001F800-\\U0001F8FF]|[\\U0001F900-\\U0001F9FF]|[\\U0001FA00-\\U0001FA6F]|[\\U0001FA70-\\U0001FAFF]', '', text)\n",
    "    text = re.sub(r'\\s+', ' ', text).strip()\n",
    "    text_tokens = word_tokenize(text)\n",
    "    filtered_text = [w for w in text_tokens if not w in stop_words]\n",
    "    return \" \".join(filtered_text)"
   ]
  },
  {
   "cell_type": "code",
   "execution_count": 6,
   "metadata": {},
   "outputs": [],
   "source": [
    "text_df.Tweet = text_df['Tweet'].apply(data_processing)"
   ]
  },
  {
   "cell_type": "code",
   "execution_count": 7,
   "metadata": {},
   "outputs": [],
   "source": [
    "text_df = text_df.drop_duplicates('Tweet')"
   ]
  },
  {
   "cell_type": "code",
   "execution_count": 8,
   "metadata": {},
   "outputs": [
    {
     "name": "stdout",
     "output_type": "stream",
     "text": [
      "!\"#$%&'()*+,-./:;<=>?@[\\]^_`{|}~\n"
     ]
    }
   ],
   "source": [
    "import string\n",
    "english_punctuations=string.punctuation\n",
    "print(english_punctuations)"
   ]
  },
  {
   "cell_type": "code",
   "execution_count": 9,
   "metadata": {},
   "outputs": [],
   "source": [
    "#clearning and removing punctuations\n",
    "import string\n",
    "english_punctuations=string.punctuation\n",
    "\n",
    "punctuation_list=english_punctuations\n",
    "\n",
    "def cleaning_punctuations(data):\n",
    "    translator=str.maketrans('', '',punctuation_list)\n",
    "    return data.translate(translator)\n",
    "\n",
    "text_df['Tweet']=text_df['Tweet'].apply(lambda x: cleaning_punctuations(x))"
   ]
  },
  {
   "cell_type": "code",
   "execution_count": 10,
   "metadata": {},
   "outputs": [],
   "source": [
    "stemmer = PorterStemmer()\n",
    "def stemming(data):\n",
    "    text = [stemmer.stem(word) for word in data]\n",
    "    return data"
   ]
  },
  {
   "cell_type": "code",
   "execution_count": 11,
   "metadata": {},
   "outputs": [],
   "source": [
    "text_df['Tweet'] = text_df['Tweet'].apply(lambda x: stemming(x))"
   ]
  },
  {
   "cell_type": "code",
   "execution_count": 12,
   "metadata": {},
   "outputs": [
    {
     "name": "stdout",
     "output_type": "stream",
     "text": [
      "drinking today tucantribe madbears lkincalgo algoanna worldcup2022 \n",
      "\n",
      "amazing canadasocceren worldcup2022 launch video shows much face canada mens national team changed since last world cup entry 1986 cant wait see boys action canada fifa world cup opening video \n",
      "\n",
      "worth reading watching worldcup2022 \n",
      "\n",
      "golden maknae shinning bright jeonjungkook jungkook 전정국 정국 jk goldenmaknae bunny kookie jungshook bts 방탄소년단 worldcup2022 fifakook btstwt \n",
      "\n",
      "bbc cares much human rights homosexual rights women rights say opening ceremony saying opening ceremony bbc censor worldcup2022 opening ceremony \n",
      "\n"
     ]
    }
   ],
   "source": [
    "print(text_df['Tweet'].iloc[0],\"\\n\")\n",
    "print(text_df['Tweet'].iloc[1],\"\\n\")\n",
    "print(text_df['Tweet'].iloc[2],\"\\n\")\n",
    "print(text_df['Tweet'].iloc[3],\"\\n\")\n",
    "print(text_df['Tweet'].iloc[4],\"\\n\")"
   ]
  },
  {
   "cell_type": "code",
   "execution_count": 13,
   "metadata": {},
   "outputs": [],
   "source": [
    "import nltk"
   ]
  },
  {
   "cell_type": "code",
   "execution_count": 14,
   "metadata": {},
   "outputs": [
    {
     "name": "stderr",
     "output_type": "stream",
     "text": [
      "[nltk_data] Downloading package wordnet to\n",
      "[nltk_data]     C:\\Users\\DELL\\AppData\\Roaming\\nltk_data...\n",
      "[nltk_data]   Package wordnet is already up-to-date!\n"
     ]
    }
   ],
   "source": [
    "nltk.download('wordnet')\n",
    "lm=nltk.WordNetLemmatizer()\n",
    "\n",
    "def lemmatizer_on_word(data):\n",
    "    text=[lm.lemmatize(word) for word in data]\n",
    "    return data\n"
   ]
  },
  {
   "cell_type": "code",
   "execution_count": 15,
   "metadata": {},
   "outputs": [],
   "source": [
    "text_df['Tweet']=text_df['Tweet'].apply(lambda x:lemmatizer_on_word(x))"
   ]
  },
  {
   "cell_type": "code",
   "execution_count": 16,
   "metadata": {},
   "outputs": [
    {
     "name": "stdout",
     "output_type": "stream",
     "text": [
      "drinking today tucantribe madbears lkincalgo algoanna worldcup2022 \n",
      "\n",
      "amazing canadasocceren worldcup2022 launch video shows much face canada mens national team changed since last world cup entry 1986 cant wait see boys action canada fifa world cup opening video \n",
      "\n",
      "worth reading watching worldcup2022 \n",
      "\n",
      "golden maknae shinning bright jeonjungkook jungkook 전정국 정국 jk goldenmaknae bunny kookie jungshook bts 방탄소년단 worldcup2022 fifakook btstwt \n",
      "\n",
      "bbc cares much human rights homosexual rights women rights say opening ceremony saying opening ceremony bbc censor worldcup2022 opening ceremony \n",
      "\n"
     ]
    }
   ],
   "source": [
    "print(text_df['Tweet'].iloc[0],\"\\n\")\n",
    "print(text_df['Tweet'].iloc[1],\"\\n\")\n",
    "print(text_df['Tweet'].iloc[2],\"\\n\")\n",
    "print(text_df['Tweet'].iloc[3],\"\\n\")\n",
    "print(text_df['Tweet'].iloc[4],\"\\n\")"
   ]
  },
  {
   "cell_type": "code",
   "execution_count": 17,
   "metadata": {},
   "outputs": [
    {
     "name": "stdout",
     "output_type": "stream",
     "text": [
      "<class 'pandas.core.frame.DataFrame'>\n",
      "Index: 21345 entries, 0 to 22523\n",
      "Data columns (total 1 columns):\n",
      " #   Column  Non-Null Count  Dtype \n",
      "---  ------  --------------  ----- \n",
      " 0   Tweet   21345 non-null  object\n",
      "dtypes: object(1)\n",
      "memory usage: 333.5+ KB\n"
     ]
    }
   ],
   "source": [
    "text_df.info()"
   ]
  },
  {
   "cell_type": "code",
   "execution_count": 18,
   "metadata": {},
   "outputs": [],
   "source": [
    "from nltk.sentiment.vader import SentimentIntensityAnalyzer\n",
    "sid = SentimentIntensityAnalyzer()"
   ]
  },
  {
   "cell_type": "code",
   "execution_count": 19,
   "metadata": {},
   "outputs": [],
   "source": [
    "def sentiment_Vader(text):\n",
    "    over_all_polarity = sid.polarity_scores(text)\n",
    "    if over_all_polarity['compound'] >= 0.05:\n",
    "        return \"positive\"\n",
    "    elif over_all_polarity['compound'] <= -0.05:\n",
    "        return \"negative\"\n",
    "    else:\n",
    "        return \"neutral\""
   ]
  },
  {
   "cell_type": "code",
   "execution_count": 20,
   "metadata": {},
   "outputs": [
    {
     "data": {
      "text/html": [
       "<div>\n",
       "<style scoped>\n",
       "    .dataframe tbody tr th:only-of-type {\n",
       "        vertical-align: middle;\n",
       "    }\n",
       "\n",
       "    .dataframe tbody tr th {\n",
       "        vertical-align: top;\n",
       "    }\n",
       "\n",
       "    .dataframe thead th {\n",
       "        text-align: right;\n",
       "    }\n",
       "</style>\n",
       "<table border=\"1\" class=\"dataframe\">\n",
       "  <thead>\n",
       "    <tr style=\"text-align: right;\">\n",
       "      <th></th>\n",
       "      <th>Tweet</th>\n",
       "    </tr>\n",
       "  </thead>\n",
       "  <tbody>\n",
       "    <tr>\n",
       "      <th>0</th>\n",
       "      <td>drinking today tucantribe madbears lkincalgo a...</td>\n",
       "    </tr>\n",
       "    <tr>\n",
       "      <th>1</th>\n",
       "      <td>amazing canadasocceren worldcup2022 launch vid...</td>\n",
       "    </tr>\n",
       "    <tr>\n",
       "      <th>2</th>\n",
       "      <td>worth reading watching worldcup2022</td>\n",
       "    </tr>\n",
       "    <tr>\n",
       "      <th>3</th>\n",
       "      <td>golden maknae shinning bright jeonjungkook jun...</td>\n",
       "    </tr>\n",
       "    <tr>\n",
       "      <th>4</th>\n",
       "      <td>bbc cares much human rights homosexual rights ...</td>\n",
       "    </tr>\n",
       "  </tbody>\n",
       "</table>\n",
       "</div>"
      ],
      "text/plain": [
       "                                               Tweet\n",
       "0  drinking today tucantribe madbears lkincalgo a...\n",
       "1  amazing canadasocceren worldcup2022 launch vid...\n",
       "2                worth reading watching worldcup2022\n",
       "3  golden maknae shinning bright jeonjungkook jun...\n",
       "4  bbc cares much human rights homosexual rights ..."
      ]
     },
     "execution_count": 20,
     "metadata": {},
     "output_type": "execute_result"
    }
   ],
   "source": [
    "sentiment = text_df['Tweet'].apply(lambda tweet: sid.polarity_scores(tweet))\n",
    "text_df.head()"
   ]
  },
  {
   "cell_type": "code",
   "execution_count": 21,
   "metadata": {},
   "outputs": [
    {
     "data": {
      "text/html": [
       "<div>\n",
       "<style scoped>\n",
       "    .dataframe tbody tr th:only-of-type {\n",
       "        vertical-align: middle;\n",
       "    }\n",
       "\n",
       "    .dataframe tbody tr th {\n",
       "        vertical-align: top;\n",
       "    }\n",
       "\n",
       "    .dataframe thead th {\n",
       "        text-align: right;\n",
       "    }\n",
       "</style>\n",
       "<table border=\"1\" class=\"dataframe\">\n",
       "  <thead>\n",
       "    <tr style=\"text-align: right;\">\n",
       "      <th></th>\n",
       "      <th>Tweet</th>\n",
       "      <th>Polarity</th>\n",
       "    </tr>\n",
       "  </thead>\n",
       "  <tbody>\n",
       "    <tr>\n",
       "      <th>0</th>\n",
       "      <td>drinking today tucantribe madbears lkincalgo a...</td>\n",
       "      <td>{'neg': 0.0, 'neu': 1.0, 'pos': 0.0, 'compound...</td>\n",
       "    </tr>\n",
       "    <tr>\n",
       "      <th>1</th>\n",
       "      <td>amazing canadasocceren worldcup2022 launch vid...</td>\n",
       "      <td>{'neg': 0.0, 'neu': 0.884, 'pos': 0.116, 'comp...</td>\n",
       "    </tr>\n",
       "    <tr>\n",
       "      <th>2</th>\n",
       "      <td>worth reading watching worldcup2022</td>\n",
       "      <td>{'neg': 0.0, 'neu': 0.612, 'pos': 0.388, 'comp...</td>\n",
       "    </tr>\n",
       "    <tr>\n",
       "      <th>3</th>\n",
       "      <td>golden maknae shinning bright jeonjungkook jun...</td>\n",
       "      <td>{'neg': 0.0, 'neu': 0.769, 'pos': 0.231, 'comp...</td>\n",
       "    </tr>\n",
       "    <tr>\n",
       "      <th>4</th>\n",
       "      <td>bbc cares much human rights homosexual rights ...</td>\n",
       "      <td>{'neg': 0.125, 'neu': 0.75, 'pos': 0.125, 'com...</td>\n",
       "    </tr>\n",
       "  </tbody>\n",
       "</table>\n",
       "</div>"
      ],
      "text/plain": [
       "                                               Tweet  \\\n",
       "0  drinking today tucantribe madbears lkincalgo a...   \n",
       "1  amazing canadasocceren worldcup2022 launch vid...   \n",
       "2                worth reading watching worldcup2022   \n",
       "3  golden maknae shinning bright jeonjungkook jun...   \n",
       "4  bbc cares much human rights homosexual rights ...   \n",
       "\n",
       "                                            Polarity  \n",
       "0  {'neg': 0.0, 'neu': 1.0, 'pos': 0.0, 'compound...  \n",
       "1  {'neg': 0.0, 'neu': 0.884, 'pos': 0.116, 'comp...  \n",
       "2  {'neg': 0.0, 'neu': 0.612, 'pos': 0.388, 'comp...  \n",
       "3  {'neg': 0.0, 'neu': 0.769, 'pos': 0.231, 'comp...  \n",
       "4  {'neg': 0.125, 'neu': 0.75, 'pos': 0.125, 'com...  "
      ]
     },
     "execution_count": 21,
     "metadata": {},
     "output_type": "execute_result"
    }
   ],
   "source": [
    "polarity = text_df['Tweet'].apply(lambda tweet: sid.polarity_scores(tweet))\n",
    "text_df['Polarity'] = polarity\n",
    "text_df.head()"
   ]
  },
  {
   "cell_type": "code",
   "execution_count": 22,
   "metadata": {},
   "outputs": [
    {
     "data": {
      "text/html": [
       "<div>\n",
       "<style scoped>\n",
       "    .dataframe tbody tr th:only-of-type {\n",
       "        vertical-align: middle;\n",
       "    }\n",
       "\n",
       "    .dataframe tbody tr th {\n",
       "        vertical-align: top;\n",
       "    }\n",
       "\n",
       "    .dataframe thead th {\n",
       "        text-align: right;\n",
       "    }\n",
       "</style>\n",
       "<table border=\"1\" class=\"dataframe\">\n",
       "  <thead>\n",
       "    <tr style=\"text-align: right;\">\n",
       "      <th></th>\n",
       "      <th>Tweet</th>\n",
       "      <th>Polarity</th>\n",
       "      <th>Compound</th>\n",
       "    </tr>\n",
       "  </thead>\n",
       "  <tbody>\n",
       "    <tr>\n",
       "      <th>0</th>\n",
       "      <td>drinking today tucantribe madbears lkincalgo a...</td>\n",
       "      <td>{'neg': 0.0, 'neu': 1.0, 'pos': 0.0, 'compound...</td>\n",
       "      <td>0.0000</td>\n",
       "    </tr>\n",
       "    <tr>\n",
       "      <th>1</th>\n",
       "      <td>amazing canadasocceren worldcup2022 launch vid...</td>\n",
       "      <td>{'neg': 0.0, 'neu': 0.884, 'pos': 0.116, 'comp...</td>\n",
       "      <td>0.5859</td>\n",
       "    </tr>\n",
       "    <tr>\n",
       "      <th>2</th>\n",
       "      <td>worth reading watching worldcup2022</td>\n",
       "      <td>{'neg': 0.0, 'neu': 0.612, 'pos': 0.388, 'comp...</td>\n",
       "      <td>0.2263</td>\n",
       "    </tr>\n",
       "    <tr>\n",
       "      <th>3</th>\n",
       "      <td>golden maknae shinning bright jeonjungkook jun...</td>\n",
       "      <td>{'neg': 0.0, 'neu': 0.769, 'pos': 0.231, 'comp...</td>\n",
       "      <td>0.5859</td>\n",
       "    </tr>\n",
       "    <tr>\n",
       "      <th>4</th>\n",
       "      <td>bbc cares much human rights homosexual rights ...</td>\n",
       "      <td>{'neg': 0.125, 'neu': 0.75, 'pos': 0.125, 'com...</td>\n",
       "      <td>0.0000</td>\n",
       "    </tr>\n",
       "  </tbody>\n",
       "</table>\n",
       "</div>"
      ],
      "text/plain": [
       "                                               Tweet  \\\n",
       "0  drinking today tucantribe madbears lkincalgo a...   \n",
       "1  amazing canadasocceren worldcup2022 launch vid...   \n",
       "2                worth reading watching worldcup2022   \n",
       "3  golden maknae shinning bright jeonjungkook jun...   \n",
       "4  bbc cares much human rights homosexual rights ...   \n",
       "\n",
       "                                            Polarity  Compound  \n",
       "0  {'neg': 0.0, 'neu': 1.0, 'pos': 0.0, 'compound...    0.0000  \n",
       "1  {'neg': 0.0, 'neu': 0.884, 'pos': 0.116, 'comp...    0.5859  \n",
       "2  {'neg': 0.0, 'neu': 0.612, 'pos': 0.388, 'comp...    0.2263  \n",
       "3  {'neg': 0.0, 'neu': 0.769, 'pos': 0.231, 'comp...    0.5859  \n",
       "4  {'neg': 0.125, 'neu': 0.75, 'pos': 0.125, 'com...    0.0000  "
      ]
     },
     "execution_count": 22,
     "metadata": {},
     "output_type": "execute_result"
    }
   ],
   "source": [
    "# for sen in text_df['Sentiment']:\n",
    "text_df['Compound'] = text_df['Polarity'].apply(lambda score_dict: score_dict['compound'])\n",
    "text_df.head()"
   ]
  },
  {
   "cell_type": "code",
   "execution_count": 23,
   "metadata": {},
   "outputs": [
    {
     "data": {
      "text/html": [
       "<div>\n",
       "<style scoped>\n",
       "    .dataframe tbody tr th:only-of-type {\n",
       "        vertical-align: middle;\n",
       "    }\n",
       "\n",
       "    .dataframe tbody tr th {\n",
       "        vertical-align: top;\n",
       "    }\n",
       "\n",
       "    .dataframe thead th {\n",
       "        text-align: right;\n",
       "    }\n",
       "</style>\n",
       "<table border=\"1\" class=\"dataframe\">\n",
       "  <thead>\n",
       "    <tr style=\"text-align: right;\">\n",
       "      <th></th>\n",
       "      <th>Tweet</th>\n",
       "      <th>Polarity</th>\n",
       "      <th>Compound</th>\n",
       "      <th>sentiment</th>\n",
       "    </tr>\n",
       "  </thead>\n",
       "  <tbody>\n",
       "    <tr>\n",
       "      <th>0</th>\n",
       "      <td>drinking today tucantribe madbears lkincalgo a...</td>\n",
       "      <td>{'neg': 0.0, 'neu': 1.0, 'pos': 0.0, 'compound...</td>\n",
       "      <td>0.0000</td>\n",
       "      <td>neutral</td>\n",
       "    </tr>\n",
       "    <tr>\n",
       "      <th>1</th>\n",
       "      <td>amazing canadasocceren worldcup2022 launch vid...</td>\n",
       "      <td>{'neg': 0.0, 'neu': 0.884, 'pos': 0.116, 'comp...</td>\n",
       "      <td>0.5859</td>\n",
       "      <td>positive</td>\n",
       "    </tr>\n",
       "    <tr>\n",
       "      <th>2</th>\n",
       "      <td>worth reading watching worldcup2022</td>\n",
       "      <td>{'neg': 0.0, 'neu': 0.612, 'pos': 0.388, 'comp...</td>\n",
       "      <td>0.2263</td>\n",
       "      <td>positive</td>\n",
       "    </tr>\n",
       "    <tr>\n",
       "      <th>3</th>\n",
       "      <td>golden maknae shinning bright jeonjungkook jun...</td>\n",
       "      <td>{'neg': 0.0, 'neu': 0.769, 'pos': 0.231, 'comp...</td>\n",
       "      <td>0.5859</td>\n",
       "      <td>positive</td>\n",
       "    </tr>\n",
       "    <tr>\n",
       "      <th>4</th>\n",
       "      <td>bbc cares much human rights homosexual rights ...</td>\n",
       "      <td>{'neg': 0.125, 'neu': 0.75, 'pos': 0.125, 'com...</td>\n",
       "      <td>0.0000</td>\n",
       "      <td>neutral</td>\n",
       "    </tr>\n",
       "  </tbody>\n",
       "</table>\n",
       "</div>"
      ],
      "text/plain": [
       "                                               Tweet  \\\n",
       "0  drinking today tucantribe madbears lkincalgo a...   \n",
       "1  amazing canadasocceren worldcup2022 launch vid...   \n",
       "2                worth reading watching worldcup2022   \n",
       "3  golden maknae shinning bright jeonjungkook jun...   \n",
       "4  bbc cares much human rights homosexual rights ...   \n",
       "\n",
       "                                            Polarity  Compound sentiment  \n",
       "0  {'neg': 0.0, 'neu': 1.0, 'pos': 0.0, 'compound...    0.0000   neutral  \n",
       "1  {'neg': 0.0, 'neu': 0.884, 'pos': 0.116, 'comp...    0.5859  positive  \n",
       "2  {'neg': 0.0, 'neu': 0.612, 'pos': 0.388, 'comp...    0.2263  positive  \n",
       "3  {'neg': 0.0, 'neu': 0.769, 'pos': 0.231, 'comp...    0.5859  positive  \n",
       "4  {'neg': 0.125, 'neu': 0.75, 'pos': 0.125, 'com...    0.0000   neutral  "
      ]
     },
     "execution_count": 23,
     "metadata": {},
     "output_type": "execute_result"
    }
   ],
   "source": [
    "text_df[\"sentiment\"] =text_df[\"Tweet\"].apply(sentiment_Vader)\n",
    "text_df.head()"
   ]
  },
  {
   "cell_type": "code",
   "execution_count": 24,
   "metadata": {},
   "outputs": [
    {
     "data": {
      "text/plain": [
       "<Axes: xlabel='sentiment', ylabel='count'>"
      ]
     },
     "execution_count": 24,
     "metadata": {},
     "output_type": "execute_result"
    },
    {
     "data": {
      "image/png": "[encoded data removed]",
      "text/plain": [
       "<Figure size 500x500 with 1 Axes>"
      ]
     },
     "metadata": {},
     "output_type": "display_data"
    }
   ],
   "source": [
    "fig = plt.figure(figsize=(5,5))\n",
    "sns.countplot(x='sentiment', data = text_df)"
   ]
  },
  {
   "cell_type": "code",
   "execution_count": 25,
   "metadata": {},
   "outputs": [
    {
     "data": {
      "text/plain": [
       "Text(0.5, 1.0, 'Distribution of sentiments')"
      ]
     },
     "execution_count": 25,
     "metadata": {},
     "output_type": "execute_result"
    },
    {
     "data": {
      "image/png": "[encoded data removed]",
      "text/plain": [
       "<Figure size 700x700 with 1 Axes>"
      ]
     },
     "metadata": {},
     "output_type": "display_data"
    }
   ],
   "source": [
    "fig = plt.figure(figsize=(7,7))\n",
    "colors = (\"yellowgreen\", \"gold\", \"red\")\n",
    "wp = {'linewidth':2, 'edgecolor':\"black\"}\n",
    "tags = text_df['sentiment'].value_counts()\n",
    "explode = (0.1,0.1,0.1)\n",
    "tags.plot(kind='pie', autopct='%1.1f%%', shadow=True, colors = colors,\n",
    "         startangle=90, wedgeprops = wp, explode = explode, label='')\n",
    "plt.title('Distribution of sentiments')"
   ]
  },
  {
   "cell_type": "code",
   "execution_count": 26,
   "metadata": {},
   "outputs": [
    {
     "data": {
      "text/html": [
       "<div>\n",
       "<style scoped>\n",
       "    .dataframe tbody tr th:only-of-type {\n",
       "        vertical-align: middle;\n",
       "    }\n",
       "\n",
       "    .dataframe tbody tr th {\n",
       "        vertical-align: top;\n",
       "    }\n",
       "\n",
       "    .dataframe thead th {\n",
       "        text-align: right;\n",
       "    }\n",
       "</style>\n",
       "<table border=\"1\" class=\"dataframe\">\n",
       "  <thead>\n",
       "    <tr style=\"text-align: right;\">\n",
       "      <th></th>\n",
       "      <th>Tweet</th>\n",
       "      <th>Polarity</th>\n",
       "      <th>Compound</th>\n",
       "      <th>sentiment</th>\n",
       "    </tr>\n",
       "  </thead>\n",
       "  <tbody>\n",
       "    <tr>\n",
       "      <th>14263</th>\n",
       "      <td>jungkookinqatar bts jungkook worldcup2022 grea...</td>\n",
       "      <td>{'neg': 0.0, 'neu': 0.146, 'pos': 0.854, 'comp...</td>\n",
       "      <td>0.9837</td>\n",
       "      <td>positive</td>\n",
       "    </tr>\n",
       "    <tr>\n",
       "      <th>953</th>\n",
       "      <td>count great potential unmissable event enhance...</td>\n",
       "      <td>{'neg': 0.0, 'neu': 0.37, 'pos': 0.63, 'compou...</td>\n",
       "      <td>0.9828</td>\n",
       "      <td>positive</td>\n",
       "    </tr>\n",
       "    <tr>\n",
       "      <th>11336</th>\n",
       "      <td>help little soul sleep comfort amp safety beau...</td>\n",
       "      <td>{'neg': 0.044, 'neu': 0.364, 'pos': 0.591, 'co...</td>\n",
       "      <td>0.9809</td>\n",
       "      <td>positive</td>\n",
       "    </tr>\n",
       "    <tr>\n",
       "      <th>13173</th>\n",
       "      <td>love jungkook dreamers dreamers2022 openingcer...</td>\n",
       "      <td>{'neg': 0.0, 'neu': 0.313, 'pos': 0.687, 'comp...</td>\n",
       "      <td>0.9808</td>\n",
       "      <td>positive</td>\n",
       "    </tr>\n",
       "    <tr>\n",
       "      <th>12717</th>\n",
       "      <td>best best jung kook winner every armys hearti ...</td>\n",
       "      <td>{'neg': 0.042, 'neu': 0.391, 'pos': 0.567, 'co...</td>\n",
       "      <td>0.9788</td>\n",
       "      <td>positive</td>\n",
       "    </tr>\n",
       "  </tbody>\n",
       "</table>\n",
       "</div>"
      ],
      "text/plain": [
       "                                                   Tweet  \\\n",
       "14263  jungkookinqatar bts jungkook worldcup2022 grea...   \n",
       "953    count great potential unmissable event enhance...   \n",
       "11336  help little soul sleep comfort amp safety beau...   \n",
       "13173  love jungkook dreamers dreamers2022 openingcer...   \n",
       "12717  best best jung kook winner every armys hearti ...   \n",
       "\n",
       "                                                Polarity  Compound sentiment  \n",
       "14263  {'neg': 0.0, 'neu': 0.146, 'pos': 0.854, 'comp...    0.9837  positive  \n",
       "953    {'neg': 0.0, 'neu': 0.37, 'pos': 0.63, 'compou...    0.9828  positive  \n",
       "11336  {'neg': 0.044, 'neu': 0.364, 'pos': 0.591, 'co...    0.9809  positive  \n",
       "13173  {'neg': 0.0, 'neu': 0.313, 'pos': 0.687, 'comp...    0.9808  positive  \n",
       "12717  {'neg': 0.042, 'neu': 0.391, 'pos': 0.567, 'co...    0.9788  positive  "
      ]
     },
     "execution_count": 26,
     "metadata": {},
     "output_type": "execute_result"
    }
   ],
   "source": [
    "pos_tweets = text_df[text_df.sentiment == 'positive']\n",
    "pos_tweets = pos_tweets.sort_values(['Compound'], ascending= False)\n",
    "pos_tweets.head()"
   ]
  },
  {
   "cell_type": "code",
   "execution_count": 27,
   "metadata": {},
   "outputs": [],
   "source": [
    "vect = CountVectorizer(ngram_range=(1,2)).fit(text_df['Tweet'])"
   ]
  },
  {
   "cell_type": "code",
   "execution_count": 28,
   "metadata": {},
   "outputs": [],
   "source": [
    "X = text_df['Tweet']\n",
    "Y = text_df['sentiment']\n",
    "X = vect.transform(X)"
   ]
  },
  {
   "cell_type": "code",
   "execution_count": 29,
   "metadata": {},
   "outputs": [],
   "source": [
    "x_train, x_test, y_train, y_test = train_test_split(X, Y, test_size=0.2, random_state=42)"
   ]
  },
  {
   "cell_type": "code",
   "execution_count": 30,
   "metadata": {},
   "outputs": [
    {
     "name": "stdout",
     "output_type": "stream",
     "text": [
      "Size of x_train: (17076, 160122)\n",
      "Size of y_train: (17076,)\n",
      "Size of x_test: (4269, 160122)\n",
      "Size of y_test: (4269,)\n"
     ]
    }
   ],
   "source": [
    "print(\"Size of x_train:\", (x_train.shape))\n",
    "print(\"Size of y_train:\", (y_train.shape))\n",
    "print(\"Size of x_test:\", (x_test.shape))\n",
    "print(\"Size of y_test:\", (y_test.shape))"
   ]
  },
  {
   "cell_type": "code",
   "execution_count": 31,
   "metadata": {},
   "outputs": [],
   "source": [
    "import warnings\n",
    "warnings.filterwarnings('ignore')"
   ]
  },
  {
   "cell_type": "code",
   "execution_count": 32,
   "metadata": {},
   "outputs": [
    {
     "name": "stdout",
     "output_type": "stream",
     "text": [
      "Test accuracy: 83.42%\n"
     ]
    }
   ],
   "source": [
    "logreg = LogisticRegression()\n",
    "logreg.fit(x_train, y_train)\n",
    "logreg_pred = logreg.predict(x_test)\n",
    "logreg_acc = accuracy_score(logreg_pred, y_test)\n",
    "print(\"Test accuracy: {:.2f}%\".format(logreg_acc*100))\n"
   ]
  },
  {
   "cell_type": "code",
   "execution_count": 33,
   "metadata": {},
   "outputs": [
    {
     "name": "stdout",
     "output_type": "stream",
     "text": [
      "[[ 457  195  132]\n",
      " [  37 1507   54]\n",
      " [  89  201 1597]]\n",
      "\n",
      "\n",
      "              precision    recall  f1-score   support\n",
      "\n",
      "    negative       0.78      0.58      0.67       784\n",
      "     neutral       0.79      0.94      0.86      1598\n",
      "    positive       0.90      0.85      0.87      1887\n",
      "\n",
      "    accuracy                           0.83      4269\n",
      "   macro avg       0.82      0.79      0.80      4269\n",
      "weighted avg       0.84      0.83      0.83      4269\n",
      "\n"
     ]
    }
   ],
   "source": [
    "print(confusion_matrix(y_test, logreg_pred))\n",
    "print(\"\\n\")\n",
    "print(classification_report(y_test, logreg_pred))"
   ]
  },
  {
   "cell_type": "code",
   "execution_count": 34,
   "metadata": {},
   "outputs": [],
   "source": [
    "from sklearn.linear_model import SGDClassifier\n",
    "\n"
   ]
  },
  {
   "cell_type": "code",
   "execution_count": 35,
   "metadata": {},
   "outputs": [
    {
     "name": "stdout",
     "output_type": "stream",
     "text": [
      "Test accuracy: 85.71%\n"
     ]
    }
   ],
   "source": [
    "# Assuming x_train, y_train, x_test, and y_test are properly defined\n",
    "\n",
    "# Create an SGD Classifier model\n",
    "sgd_clf = SGDClassifier()\n",
    "\n",
    "# Train the model\n",
    "sgd_clf.fit(x_train, y_train)\n",
    "\n",
    "# Make predictions on the test set\n",
    "sgd_pred = sgd_clf.predict(x_test)\n",
    "\n",
    "# Calculate accuracy\n",
    "sgd_acc = accuracy_score(y_test, sgd_pred)\n",
    "\n",
    "# Print the result\n",
    "print(\"Test accuracy: {:.2f}%\".format(sgd_acc * 100))"
   ]
  },
  {
   "cell_type": "code",
   "execution_count": 38,
   "metadata": {},
   "outputs": [
    {
     "name": "stdout",
     "output_type": "stream",
     "text": [
      "Test accuracy: 81.82%\n"
     ]
    }
   ],
   "source": [
    "from sklearn.ensemble import RandomForestClassifier\n",
    "from sklearn.metrics import accuracy_score\n",
    "\n",
    "# Assuming x_train, y_train, x_test, and y_test are properly defined\n",
    "\n",
    "# Create a Random Forest Classifier model\n",
    "rf_clf = RandomForestClassifier(n_estimators=100, random_state=42)\n",
    "\n",
    "# Train the model\n",
    "rf_clf.fit(x_train, y_train)\n",
    "\n",
    "# Make predictions on the test set\n",
    "rf_pred = rf_clf.predict(x_test)\n",
    "\n",
    "# Calculate accuracy\n",
    "rf_acc = accuracy_score(y_test, rf_pred)\n",
    "\n",
    "# Print the result\n",
    "print(\"Test accuracy: {:.2f}%\".format(rf_acc * 100))\n"
   ]
  },
  {
   "cell_type": "code",
   "execution_count": 39,
   "metadata": {},
   "outputs": [],
   "source": [
    "from sklearn.model_selection import GridSearchCV\n",
    "from sklearn.ensemble import RandomForestClassifier\n",
    "from sklearn.metrics import accuracy_score\n",
    "\n",
    "# Assuming x_train, y_train, x_test, and y_test are properly defined\n",
    "\n",
    "# Define the parameter grid\n",
    "param_grid = {\n",
    "    'n_estimators': [50, 100, 200],\n",
    "    'max_depth': [None, 10, 20],\n",
    "    'min_samples_split': [2, 5, 10],\n",
    "    'min_samples_leaf': [1, 2, 4]\n",
    "}\n",
    "\n",
    "# Create a GridSearchCV object with Random Forest and the parameter grid\n",
    "grid = GridSearchCV(RandomForestClassifier(random_state=42), param_grid, scoring='accuracy', cv=5)\n",
    "\n",
    "# Fit the model\n",
    "grid.fit(x_train, y_train)\n",
    "\n",
    "# Print the best parameters found by the grid search\n",
    "print(\"Best parameters:\", grid.best_params_)\n",
    "\n",
    "# Make predictions on the test set using the best model\n",
    "y_pred = grid.predict(x_test)\n",
    "\n",
    "# Calculate accuracy\n",
    "rf_acc = accuracy_score(y_pred, y_test)\n",
    "\n",
    "# Print the result\n",
    "print(\"Test accuracy: {:.2f}%\".format(rf_acc * 100))\n"
   ]
  }
 ],
 "metadata": {
  "kernelspec": {
   "display_name": "Python 3",
   "language": "python",
   "name": "python3"
  },
  "language_info": {
   "codemirror_mode": {
    "name": "ipython",
    "version": 3
   },
   "file_extension": ".py",
   "mimetype": "text/x-python",
   "name": "python",
   "nbconvert_exporter": "python",
   "pygments_lexer": "ipython3",
   "version": "3.11.6"
  }
 },
 "nbformat": 4,
 "nbformat_minor": 2
}
